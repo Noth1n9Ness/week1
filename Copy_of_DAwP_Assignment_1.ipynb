{
  "nbformat": 4,
  "nbformat_minor": 0,
  "metadata": {
    "colab": {
      "name": "Copy of DAwP_Assignment_1.ipynb",
      "provenance": []
    },
    "kernelspec": {
      "name": "python3",
      "display_name": "Python 3"
    }
  },
  "cells": [
    {
      "cell_type": "markdown",
      "metadata": {
        "id": "jjZG7BNlbWtO",
        "colab_type": "text"
      },
      "source": [
        "![](https://i.imgur.com/0AUxkXt.png)"
      ]
    },
    {
      "cell_type": "markdown",
      "metadata": {
        "id": "jbpQzyjqbflM",
        "colab_type": "text"
      },
      "source": [
        "# Assignment 1 - The Hacker Rank\n",
        "\n",
        "HackerRank is a place where programmers from all over the world come together to solve problems in a wide range of Computer Science domains.\n",
        "\n",
        "As you solve more challenges, you earn points and move up the HackerRank Leaderboard.\n",
        "\n",
        "Looking for a job at an awesome company? You can get hired by solving [challenges](https://www.hackerrank.com/jobs/search)!\n",
        "\n",
        "It's cool. Let's establish your knowledge and fight for glory!\n",
        "\n",
        "But before that let's make it clear that.."
      ]
    },
    {
      "cell_type": "markdown",
      "metadata": {
        "id": "-ndmD4naciAN",
        "colab_type": "text"
      },
      "source": [
        "## Note-taking is IMPORTANT\n",
        "\n",
        "Blog: [Why is note-taking important](https://nickblackbourn.com/blog/why-is-note-taking-important/)\n",
        "\n",
        "Note taking isn’t just important for college students, it’s a valuable life skill.\n",
        "\n",
        "Effective note taking helps you to remember information and aids your understanding of that information. \n",
        "\n",
        "**Notes boost your understanding**\n",
        "\n",
        "By making notes, you force yourself to construct a conceptual mental representation of the ideas you are grappling with. It is this process that helps you comprehend the subject matter you are working with.\n",
        "\n",
        "**Notes are a repository of your thinking**\n",
        "\n",
        "When you need to recall something that you came across a while ago, you can go over the main ideas by looking over your notes. This is why good, comprehensive notes are so useful; they are a catalogue of the best ideas you’ve encountered, and what you thought about them.\n",
        "\n",
        "etc.\n",
        "\n",
        "\n",
        "\n",
        "\n",
        "\n",
        "\n",
        "\n"
      ]
    },
    {
      "cell_type": "markdown",
      "metadata": {
        "id": "IGvKPsdVfX-F",
        "colab_type": "text"
      },
      "source": [
        "## Requirements\n",
        "\n",
        "Pick 10 challenges on HackerRank about SQL and 5 about Python in **easy** level:\n",
        "\n",
        "[HackerRank - Domain SQL](https://www.hackerrank.com/domains/sql?filters%5Bdifficulty%5D%5B%5D=easy&filters%5Bsubdomains%5D%5B%5D=select)\n",
        "\n",
        "[HackerRank - Domain Python](https://www.hackerrank.com/domains/python?filters%5Bdifficulty%5D%5B%5D=easy)\n",
        "\n",
        "For each challenge:\n",
        "\n",
        "* Create a markdown cell first that describes the challenge.\n",
        "* Solve the challenge on HackerRank and copy your solution to a code cell below\n",
        "* (Optional) A short description about how you came up with the solution would be awesome."
      ]
    },
    {
      "cell_type": "markdown",
      "metadata": {
        "id": "higGK1Y5iAea",
        "colab_type": "text"
      },
      "source": [
        "## Example"
      ]
    },
    {
      "cell_type": "markdown",
      "metadata": {
        "id": "D2yU2FYDi4tj",
        "colab_type": "text"
      },
      "source": [
        "### SQL"
      ]
    },
    {
      "cell_type": "markdown",
      "metadata": {
        "id": "gu4DDH7Ki77C",
        "colab_type": "text"
      },
      "source": [
        "\n",
        "#### Problem 1\n",
        "\n",
        "Query all columns for all American cities in **CITY** with populations larger than 100000. The CountryCode for America is USA.\n",
        "\n",
        "**Input Format**\n",
        "\n",
        "The **CITY** table is described as follows:\n",
        "\n",
        "| Field | Type |\n",
        "|:----:|:---:|\n",
        "| ID | NUMBER |\n",
        "| NAME | VARCHAR2(17) |\n",
        "| COUNTRYCODE | VARCHAR2(3) |\n",
        "| DISTRICT | VARCHAR2(20) |\n",
        "| POPULATION | NUMBER |"
      ]
    },
    {
      "cell_type": "code",
      "metadata": {
        "id": "hhAwMjyhbT1b",
        "colab_type": "code",
        "colab": {}
      },
      "source": [
        "# Solution\n",
        "# SELECT * from city WHERE population>100000 AND countrycode='USA';"
      ],
      "execution_count": 0,
      "outputs": []
    },
    {
      "cell_type": "markdown",
      "metadata": {
        "id": "0AxyfiJijJ7T",
        "colab_type": "text"
      },
      "source": [
        "### Python"
      ]
    },
    {
      "cell_type": "markdown",
      "metadata": {
        "id": "PEW8LsB5jLqf",
        "colab_type": "text"
      },
      "source": [
        "#### Problem 1\n",
        "\n",
        "**Task** \n",
        "Given an integer, , perform the following conditional actions:\n",
        "\n",
        "* If `n` is odd, print *Weird*\n",
        "* If `n` is even and in the inclusive range of 2 to 5, print *Not Weird*\n",
        "* If `n` is even and in the inclusive range of 6 to 20, print *Weird*\n",
        "* If `n` is even and greater than 20, print *Not Weird*\n",
        "\n",
        "**Input Format**\n",
        "\n",
        "A single line containing a positive integer, .\n",
        "\n",
        "**Output Format**\n",
        "\n",
        "Print Weird if the number is weird; otherwise, print Not Weird."
      ]
    },
    {
      "cell_type": "code",
      "metadata": {
        "id": "JBOxgw0zjLC2",
        "colab_type": "code",
        "colab": {}
      },
      "source": [
        "n = int(input())\n",
        "\n",
        "if n % 2 == 1:\n",
        "    print('Weird')\n",
        "else:\n",
        "    if (n >= 2) and (n <= 5):\n",
        "        print('Not Weird')\n",
        "    elif (n >= 6) and (n <= 20):\n",
        "        print('Weird')\n",
        "    else:\n",
        "        print('Not Weird')"
      ],
      "execution_count": 0,
      "outputs": []
    },
    {
      "cell_type": "markdown",
      "metadata": {
        "id": "a-Q3VE7YkA9A",
        "colab_type": "text"
      },
      "source": [
        "## Your turn\n",
        "\n",
        "Good luck and have fun!"
      ]
    },
    {
      "cell_type": "markdown",
      "metadata": {
        "id": "3TCMtRNUZ42t",
        "colab_type": "text"
      },
      "source": [
        "https://www.hackerrank.com/challenges/revising-the-select-query/problem"
      ]
    },
    {
      "cell_type": "code",
      "metadata": {
        "id": "AqkAM3fRZ5lc",
        "colab_type": "code",
        "colab": {}
      },
      "source": [
        "select * \n",
        "from city \n",
        "where countrycode = 'USA' and population>100000;"
      ],
      "execution_count": 0,
      "outputs": []
    },
    {
      "cell_type": "markdown",
      "metadata": {
        "id": "4k8K-pExZ9Nb",
        "colab_type": "text"
      },
      "source": [
        "https://www.hackerrank.com/challenges/select-all-sql/problem"
      ]
    },
    {
      "cell_type": "code",
      "metadata": {
        "id": "9ZGnLQ_KaB7R",
        "colab_type": "code",
        "colab": {}
      },
      "source": [
        "select * \n",
        "from city"
      ],
      "execution_count": 0,
      "outputs": []
    },
    {
      "cell_type": "markdown",
      "metadata": {
        "id": "1sC2uNCZaFgm",
        "colab_type": "text"
      },
      "source": [
        "https://www.hackerrank.com/challenges/select-by-id/problem"
      ]
    },
    {
      "cell_type": "code",
      "metadata": {
        "id": "nq9TuAFXaICE",
        "colab_type": "code",
        "colab": {}
      },
      "source": [
        "select *\n",
        "from city\n",
        "where ID = 1661;"
      ],
      "execution_count": 0,
      "outputs": []
    },
    {
      "cell_type": "markdown",
      "metadata": {
        "id": "yqsy9WYXaRSZ",
        "colab_type": "text"
      },
      "source": [
        "https://www.hackerrank.com/challenges/japanese-cities-attributes/problem"
      ]
    },
    {
      "cell_type": "code",
      "metadata": {
        "id": "uJdr4C-laNHr",
        "colab_type": "code",
        "colab": {}
      },
      "source": [
        "select * \n",
        "from city\n",
        "where countrycode = 'JPN';"
      ],
      "execution_count": 0,
      "outputs": []
    },
    {
      "cell_type": "markdown",
      "metadata": {
        "id": "2BGcq5f7aTS1",
        "colab_type": "text"
      },
      "source": [
        "https://www.hackerrank.com/challenges/japanese-cities-name/problem"
      ]
    },
    {
      "cell_type": "code",
      "metadata": {
        "id": "ye2eO3LoaV-E",
        "colab_type": "code",
        "colab": {}
      },
      "source": [
        "select name\n",
        "from city\n",
        "where countrycode = 'JPN';"
      ],
      "execution_count": 0,
      "outputs": []
    },
    {
      "cell_type": "markdown",
      "metadata": {
        "id": "-CGOKbiRaYjj",
        "colab_type": "text"
      },
      "source": [
        ""
      ]
    },
    {
      "cell_type": "markdown",
      "metadata": {
        "id": "QMGnLTg-aYno",
        "colab_type": "text"
      },
      "source": [
        "https://www.hackerrank.com/challenges/py-hello-world"
      ]
    },
    {
      "cell_type": "code",
      "metadata": {
        "id": "GXDTXHF7aiw2",
        "colab_type": "code",
        "colab": {}
      },
      "source": [
        "print(\"Hello, World!\")\n",
        "\n"
      ],
      "execution_count": 0,
      "outputs": []
    },
    {
      "cell_type": "markdown",
      "metadata": {
        "id": "w2qNV0-iajWQ",
        "colab_type": "text"
      },
      "source": [
        "https://www.hackerrank.com/challenges/python-arithmetic-operators/problem"
      ]
    },
    {
      "cell_type": "code",
      "metadata": {
        "id": "jfF89jsGala8",
        "colab_type": "code",
        "colab": {}
      },
      "source": [
        "if __name__ == '__main__':\n",
        "    a = int(input())\n",
        "    b = int(input())\n",
        "    print(a+b)\n",
        "    print(a-b)\n",
        "    print(a*b)\n",
        "\n"
      ],
      "execution_count": 0,
      "outputs": []
    },
    {
      "cell_type": "markdown",
      "metadata": {
        "id": "5yG8awTFaqKu",
        "colab_type": "text"
      },
      "source": [
        "https://www.hackerrank.com/challenges/python-division/problem"
      ]
    },
    {
      "cell_type": "code",
      "metadata": {
        "id": "gux3GDC_arGL",
        "colab_type": "code",
        "colab": {}
      },
      "source": [
        "from __future__ import division\n",
        "\n",
        "if __name__ == '__main__':\n",
        "    a = int(raw_input())\n",
        "    b = int(raw_input())\n",
        "    print (a//b)\n",
        "    print (a/b)\n"
      ],
      "execution_count": 0,
      "outputs": []
    },
    {
      "cell_type": "markdown",
      "metadata": {
        "id": "TzJsN47taxIF",
        "colab_type": "text"
      },
      "source": [
        "https://www.hackerrank.com/challenges/python-loops/problem"
      ]
    },
    {
      "cell_type": "code",
      "metadata": {
        "id": "WF66sWTjaz1h",
        "colab_type": "code",
        "colab": {}
      },
      "source": [
        "if __name__ == '__main__':\n",
        "    n = int(input())\n",
        "    for i in range(n):\n",
        "        print(i**2)\n"
      ],
      "execution_count": 0,
      "outputs": []
    },
    {
      "cell_type": "markdown",
      "metadata": {
        "id": "VwOHWjnTa2eQ",
        "colab_type": "text"
      },
      "source": [
        "https://www.hackerrank.com/challenges/python-print/problem"
      ]
    },
    {
      "cell_type": "code",
      "metadata": {
        "id": "mj7Ybh4ga5tW",
        "colab_type": "code",
        "colab": {}
      },
      "source": [
        "if __name__ == '__main__':\n",
        "    n = int(input())\n",
        "    for i in range(1,n+1):\n",
        "        print(i,end = '')\n"
      ],
      "execution_count": 0,
      "outputs": []
    },
    {
      "cell_type": "markdown",
      "metadata": {
        "id": "qpyQFKj0a9gC",
        "colab_type": "text"
      },
      "source": [
        "https://www.hackerrank.com/challenges/list-comprehensions/problem"
      ]
    },
    {
      "cell_type": "code",
      "metadata": {
        "id": "W4U1e_7rbB61",
        "colab_type": "code",
        "colab": {}
      },
      "source": [
        "if __name__ == '__main__':\n",
        "    x = int(input())\n",
        "    y = int(input())\n",
        "    z = int(input())\n",
        "    n = int(input())\n",
        "    lis = [[i, i1, i2] for i in range(x+1) for i1 in range(y+1) for i2 in range(z+1) if i + i1 + i2 != n]\n",
        "    print(lis)\n"
      ],
      "execution_count": 0,
      "outputs": []
    },
    {
      "cell_type": "markdown",
      "metadata": {
        "id": "ASEepeD6bCrP",
        "colab_type": "text"
      },
      "source": [
        "https://www.hackerrank.com/challenges/find-second-maximum-number-in-a-list/problem"
      ]
    },
    {
      "cell_type": "code",
      "metadata": {
        "id": "lEIsYG76bGvV",
        "colab_type": "code",
        "colab": {}
      },
      "source": [
        "if __name__ == '__main__':\n",
        "    n = int(input())\n",
        "    arr = map(int, input().split())\n",
        "    m=ru=-1000\n",
        "    for i in arr:\n",
        "        if i>m:\n",
        "            ru,m=m,i\n",
        "        if i>ru and i<m:\n",
        "            ru=i\n",
        "    print(ru) \n",
        "\n"
      ],
      "execution_count": 0,
      "outputs": []
    },
    {
      "cell_type": "markdown",
      "metadata": {
        "id": "jj-rBgZubOvU",
        "colab_type": "text"
      },
      "source": [
        "https://www.hackerrank.com/challenges/finding-the-percentage/problem"
      ]
    },
    {
      "cell_type": "code",
      "metadata": {
        "id": "Sge_70HFbPWG",
        "colab_type": "code",
        "colab": {}
      },
      "source": [
        "if __name__ == '__main__':\n",
        "    n = int(input())\n",
        "    student_marks = {}\n",
        "    for _ in range(n):\n",
        "        name, *line = input().split()\n",
        "        scores = list(map(float, line))\n",
        "        student_marks[name] = scores\n",
        "    query_name = input()\n",
        "    sum = 0\n",
        "    for i in student_marks[query_name]:\n",
        "        sum+=i\n",
        "    sum = sum/3\n",
        "    print('%.2f' %sum)\n",
        "\n"
      ],
      "execution_count": 0,
      "outputs": []
    },
    {
      "cell_type": "markdown",
      "metadata": {
        "id": "bIzoLqBfbU1u",
        "colab_type": "text"
      },
      "source": [
        "https://www.hackerrank.com/challenges/python-tuples/problem"
      ]
    },
    {
      "cell_type": "code",
      "metadata": {
        "id": "fyvj_SJGbcAf",
        "colab_type": "code",
        "colab": {}
      },
      "source": [
        "if __name__ == '__main__':\n",
        "    n = int(input())\n",
        "    t = tuple(map(int,input().split()))\n",
        "    print(hash(t))\n",
        "    \n",
        "\n"
      ],
      "execution_count": 0,
      "outputs": []
    },
    {
      "cell_type": "markdown",
      "metadata": {
        "id": "Z6kFjV55bmwU",
        "colab_type": "text"
      },
      "source": [
        "https://www.hackerrank.com/challenges/nested-list/problem"
      ]
    },
    {
      "cell_type": "code",
      "metadata": {
        "id": "4WwI0nQCbnRr",
        "colab_type": "code",
        "colab": {}
      },
      "source": [
        "if __name__ == '__main__':\n",
        "    dic ={}\n",
        "    min=smin=100000\n",
        "    for _ in range(int(input())):\n",
        "        name = input()\n",
        "        score = float(input())\n",
        "        dic[name]=score\n",
        "        if score < min:\n",
        "            smin,min=min,score\n",
        "        if score < smin and score>min:\n",
        "            min=score \n",
        "    for i in sorted(dic):\n",
        "        if dic[i]==smin:\n",
        "            print(i)\n",
        "\n"
      ],
      "execution_count": 0,
      "outputs": []
    }
  ]
}